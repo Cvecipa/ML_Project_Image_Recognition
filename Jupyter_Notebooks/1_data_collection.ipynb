{
 "cells": [
  {
   "cell_type": "markdown",
   "metadata": {},
   "source": [
    "# Image Recognition Project - Structural Defect Recognition\n",
    "---------------------------------------------------------------\n",
    "## Data Collection\n",
    "\n",
    "### Section Objectives\n",
    " - Find relevant dataset from Kaggle\n",
    " - Collect the data\n",
    " - Preprocess data, checking for outlier images or irrelevant files\n",
    " - Perform a manual data check\n",
    " - Divide dataset into the following subsets: Train, Test and Validation; at the ratio 0.7, 0.2, 0.1\n",
    " "
   ]
  },
  {
   "cell_type": "markdown",
   "metadata": {},
   "source": [
    "---------------------------------------------------------------"
   ]
  },
  {
   "cell_type": "markdown",
   "metadata": {},
   "source": [
    "### Importing Packages"
   ]
  },
  {
   "cell_type": "code",
   "execution_count": 7,
   "metadata": {},
   "outputs": [
    {
     "name": "stdout",
     "output_type": "stream",
     "text": [
      "Requirement already satisfied: numpy==1.19.2 in /opt/conda/envs/myenv/lib/python3.8/site-packages (from -r /workspaces/ML_Project_Image_Recognition/requirements.txt (line 1)) (1.19.2)\n",
      "Requirement already satisfied: pandas==1.1.2 in /opt/conda/envs/myenv/lib/python3.8/site-packages (from -r /workspaces/ML_Project_Image_Recognition/requirements.txt (line 2)) (1.1.2)\n",
      "Requirement already satisfied: matplotlib==3.3.1 in /opt/conda/envs/myenv/lib/python3.8/site-packages (from -r /workspaces/ML_Project_Image_Recognition/requirements.txt (line 3)) (3.3.1)\n",
      "Requirement already satisfied: seaborn==0.11.0 in /opt/conda/envs/myenv/lib/python3.8/site-packages (from -r /workspaces/ML_Project_Image_Recognition/requirements.txt (line 4)) (0.11.0)\n",
      "Requirement already satisfied: plotly==4.12.0 in /opt/conda/envs/myenv/lib/python3.8/site-packages (from -r /workspaces/ML_Project_Image_Recognition/requirements.txt (line 5)) (4.12.0)\n",
      "Requirement already satisfied: streamlit==0.85.0 in /opt/conda/envs/myenv/lib/python3.8/site-packages (from -r /workspaces/ML_Project_Image_Recognition/requirements.txt (line 6)) (0.85.0)\n",
      "Requirement already satisfied: tensorflow-cpu==2.6.0 in /opt/conda/envs/myenv/lib/python3.8/site-packages (from -r /workspaces/ML_Project_Image_Recognition/requirements.txt (line 7)) (2.6.0)\n",
      "Requirement already satisfied: keras==2.6.0 in /opt/conda/envs/myenv/lib/python3.8/site-packages (from -r /workspaces/ML_Project_Image_Recognition/requirements.txt (line 8)) (2.6.0)\n",
      "Requirement already satisfied: protobuf==3.20 in /opt/conda/envs/myenv/lib/python3.8/site-packages (from -r /workspaces/ML_Project_Image_Recognition/requirements.txt (line 9)) (3.20.0)\n",
      "Requirement already satisfied: altair<5 in /opt/conda/envs/myenv/lib/python3.8/site-packages (from -r /workspaces/ML_Project_Image_Recognition/requirements.txt (line 10)) (4.2.2)\n",
      "Requirement already satisfied: joblib==1.4.2 in /opt/conda/envs/myenv/lib/python3.8/site-packages (from -r /workspaces/ML_Project_Image_Recognition/requirements.txt (line 11)) (1.4.2)\n",
      "Requirement already satisfied: python-dateutil>=2.7.3 in /opt/conda/envs/myenv/lib/python3.8/site-packages (from pandas==1.1.2->-r /workspaces/ML_Project_Image_Recognition/requirements.txt (line 2)) (2.9.0.post0)\n",
      "Requirement already satisfied: pytz>=2017.2 in /opt/conda/envs/myenv/lib/python3.8/site-packages (from pandas==1.1.2->-r /workspaces/ML_Project_Image_Recognition/requirements.txt (line 2)) (2025.1)\n",
      "Requirement already satisfied: certifi>=2020.06.20 in /opt/conda/envs/myenv/lib/python3.8/site-packages (from matplotlib==3.3.1->-r /workspaces/ML_Project_Image_Recognition/requirements.txt (line 3)) (2025.1.31)\n",
      "Requirement already satisfied: cycler>=0.10 in /opt/conda/envs/myenv/lib/python3.8/site-packages (from matplotlib==3.3.1->-r /workspaces/ML_Project_Image_Recognition/requirements.txt (line 3)) (0.12.1)\n",
      "Requirement already satisfied: kiwisolver>=1.0.1 in /opt/conda/envs/myenv/lib/python3.8/site-packages (from matplotlib==3.3.1->-r /workspaces/ML_Project_Image_Recognition/requirements.txt (line 3)) (1.4.7)\n",
      "Requirement already satisfied: pillow>=6.2.0 in /opt/conda/envs/myenv/lib/python3.8/site-packages (from matplotlib==3.3.1->-r /workspaces/ML_Project_Image_Recognition/requirements.txt (line 3)) (10.4.0)\n",
      "Requirement already satisfied: pyparsing!=2.0.4,!=2.1.2,!=2.1.6,>=2.0.3 in /opt/conda/envs/myenv/lib/python3.8/site-packages (from matplotlib==3.3.1->-r /workspaces/ML_Project_Image_Recognition/requirements.txt (line 3)) (3.1.4)\n",
      "Requirement already satisfied: scipy>=1.0 in /opt/conda/envs/myenv/lib/python3.8/site-packages (from seaborn==0.11.0->-r /workspaces/ML_Project_Image_Recognition/requirements.txt (line 4)) (1.9.3)\n",
      "Requirement already satisfied: retrying>=1.3.3 in /opt/conda/envs/myenv/lib/python3.8/site-packages (from plotly==4.12.0->-r /workspaces/ML_Project_Image_Recognition/requirements.txt (line 5)) (1.3.4)\n",
      "Requirement already satisfied: six in /opt/conda/envs/myenv/lib/python3.8/site-packages (from plotly==4.12.0->-r /workspaces/ML_Project_Image_Recognition/requirements.txt (line 5)) (1.15.0)\n",
      "Requirement already satisfied: astor in /opt/conda/envs/myenv/lib/python3.8/site-packages (from streamlit==0.85.0->-r /workspaces/ML_Project_Image_Recognition/requirements.txt (line 6)) (0.8.1)\n",
      "Requirement already satisfied: attrs in /opt/conda/envs/myenv/lib/python3.8/site-packages (from streamlit==0.85.0->-r /workspaces/ML_Project_Image_Recognition/requirements.txt (line 6)) (25.1.0)\n",
      "Requirement already satisfied: base58 in /opt/conda/envs/myenv/lib/python3.8/site-packages (from streamlit==0.85.0->-r /workspaces/ML_Project_Image_Recognition/requirements.txt (line 6)) (2.1.1)\n",
      "Requirement already satisfied: blinker in /opt/conda/envs/myenv/lib/python3.8/site-packages (from streamlit==0.85.0->-r /workspaces/ML_Project_Image_Recognition/requirements.txt (line 6)) (1.8.2)\n",
      "Requirement already satisfied: cachetools>=4.0 in /opt/conda/envs/myenv/lib/python3.8/site-packages (from streamlit==0.85.0->-r /workspaces/ML_Project_Image_Recognition/requirements.txt (line 6)) (5.5.2)\n",
      "Requirement already satisfied: click<8.0,>=7.0 in /opt/conda/envs/myenv/lib/python3.8/site-packages (from streamlit==0.85.0->-r /workspaces/ML_Project_Image_Recognition/requirements.txt (line 6)) (7.1.2)\n",
      "Requirement already satisfied: packaging in /opt/conda/envs/myenv/lib/python3.8/site-packages (from streamlit==0.85.0->-r /workspaces/ML_Project_Image_Recognition/requirements.txt (line 6)) (24.1)\n",
      "Requirement already satisfied: pyarrow in /opt/conda/envs/myenv/lib/python3.8/site-packages (from streamlit==0.85.0->-r /workspaces/ML_Project_Image_Recognition/requirements.txt (line 6)) (17.0.0)\n",
      "Requirement already satisfied: pydeck>=0.1.dev5 in /opt/conda/envs/myenv/lib/python3.8/site-packages (from streamlit==0.85.0->-r /workspaces/ML_Project_Image_Recognition/requirements.txt (line 6)) (0.9.1)\n",
      "Requirement already satisfied: requests in /opt/conda/envs/myenv/lib/python3.8/site-packages (from streamlit==0.85.0->-r /workspaces/ML_Project_Image_Recognition/requirements.txt (line 6)) (2.32.3)\n",
      "Requirement already satisfied: toml in /opt/conda/envs/myenv/lib/python3.8/site-packages (from streamlit==0.85.0->-r /workspaces/ML_Project_Image_Recognition/requirements.txt (line 6)) (0.10.2)\n",
      "Requirement already satisfied: tornado>=5.0 in /opt/conda/envs/myenv/lib/python3.8/site-packages (from streamlit==0.85.0->-r /workspaces/ML_Project_Image_Recognition/requirements.txt (line 6)) (6.4.1)\n",
      "Requirement already satisfied: tzlocal in /opt/conda/envs/myenv/lib/python3.8/site-packages (from streamlit==0.85.0->-r /workspaces/ML_Project_Image_Recognition/requirements.txt (line 6)) (5.2)\n",
      "Requirement already satisfied: validators in /opt/conda/envs/myenv/lib/python3.8/site-packages (from streamlit==0.85.0->-r /workspaces/ML_Project_Image_Recognition/requirements.txt (line 6)) (0.34.0)\n",
      "Requirement already satisfied: gitpython in /opt/conda/envs/myenv/lib/python3.8/site-packages (from streamlit==0.85.0->-r /workspaces/ML_Project_Image_Recognition/requirements.txt (line 6)) (3.1.44)\n",
      "Requirement already satisfied: watchdog in /opt/conda/envs/myenv/lib/python3.8/site-packages (from streamlit==0.85.0->-r /workspaces/ML_Project_Image_Recognition/requirements.txt (line 6)) (4.0.2)\n",
      "Requirement already satisfied: absl-py~=0.10 in /opt/conda/envs/myenv/lib/python3.8/site-packages (from tensorflow-cpu==2.6.0->-r /workspaces/ML_Project_Image_Recognition/requirements.txt (line 7)) (0.15.0)\n",
      "Requirement already satisfied: astunparse~=1.6.3 in /opt/conda/envs/myenv/lib/python3.8/site-packages (from tensorflow-cpu==2.6.0->-r /workspaces/ML_Project_Image_Recognition/requirements.txt (line 7)) (1.6.3)\n",
      "Requirement already satisfied: clang~=5.0 in /opt/conda/envs/myenv/lib/python3.8/site-packages (from tensorflow-cpu==2.6.0->-r /workspaces/ML_Project_Image_Recognition/requirements.txt (line 7)) (5.0)\n",
      "Requirement already satisfied: flatbuffers~=1.12.0 in /opt/conda/envs/myenv/lib/python3.8/site-packages (from tensorflow-cpu==2.6.0->-r /workspaces/ML_Project_Image_Recognition/requirements.txt (line 7)) (1.12)\n",
      "Requirement already satisfied: google-pasta~=0.2 in /opt/conda/envs/myenv/lib/python3.8/site-packages (from tensorflow-cpu==2.6.0->-r /workspaces/ML_Project_Image_Recognition/requirements.txt (line 7)) (0.2.0)\n",
      "Requirement already satisfied: h5py~=3.1.0 in /opt/conda/envs/myenv/lib/python3.8/site-packages (from tensorflow-cpu==2.6.0->-r /workspaces/ML_Project_Image_Recognition/requirements.txt (line 7)) (3.1.0)\n",
      "Requirement already satisfied: keras-preprocessing~=1.1.2 in /opt/conda/envs/myenv/lib/python3.8/site-packages (from tensorflow-cpu==2.6.0->-r /workspaces/ML_Project_Image_Recognition/requirements.txt (line 7)) (1.1.2)\n",
      "Requirement already satisfied: opt-einsum~=3.3.0 in /opt/conda/envs/myenv/lib/python3.8/site-packages (from tensorflow-cpu==2.6.0->-r /workspaces/ML_Project_Image_Recognition/requirements.txt (line 7)) (3.3.0)\n",
      "Requirement already satisfied: termcolor~=1.1.0 in /opt/conda/envs/myenv/lib/python3.8/site-packages (from tensorflow-cpu==2.6.0->-r /workspaces/ML_Project_Image_Recognition/requirements.txt (line 7)) (1.1.0)\n",
      "Requirement already satisfied: typing-extensions~=3.7.4 in /opt/conda/envs/myenv/lib/python3.8/site-packages (from tensorflow-cpu==2.6.0->-r /workspaces/ML_Project_Image_Recognition/requirements.txt (line 7)) (3.7.4.3)\n",
      "Requirement already satisfied: wheel~=0.35 in /opt/conda/envs/myenv/lib/python3.8/site-packages (from tensorflow-cpu==2.6.0->-r /workspaces/ML_Project_Image_Recognition/requirements.txt (line 7)) (0.44.0)\n",
      "Requirement already satisfied: wrapt~=1.12.1 in /opt/conda/envs/myenv/lib/python3.8/site-packages (from tensorflow-cpu==2.6.0->-r /workspaces/ML_Project_Image_Recognition/requirements.txt (line 7)) (1.12.1)\n",
      "Requirement already satisfied: gast==0.4.0 in /opt/conda/envs/myenv/lib/python3.8/site-packages (from tensorflow-cpu==2.6.0->-r /workspaces/ML_Project_Image_Recognition/requirements.txt (line 7)) (0.4.0)\n",
      "Requirement already satisfied: tensorboard~=2.6 in /opt/conda/envs/myenv/lib/python3.8/site-packages (from tensorflow-cpu==2.6.0->-r /workspaces/ML_Project_Image_Recognition/requirements.txt (line 7)) (2.14.0)\n",
      "Requirement already satisfied: tensorflow-estimator~=2.6 in /opt/conda/envs/myenv/lib/python3.8/site-packages (from tensorflow-cpu==2.6.0->-r /workspaces/ML_Project_Image_Recognition/requirements.txt (line 7)) (2.15.0)\n",
      "Requirement already satisfied: grpcio<2.0,>=1.37.0 in /opt/conda/envs/myenv/lib/python3.8/site-packages (from tensorflow-cpu==2.6.0->-r /workspaces/ML_Project_Image_Recognition/requirements.txt (line 7)) (1.70.0)\n",
      "Requirement already satisfied: entrypoints in /opt/conda/envs/myenv/lib/python3.8/site-packages (from altair<5->-r /workspaces/ML_Project_Image_Recognition/requirements.txt (line 10)) (0.4)\n",
      "Requirement already satisfied: jinja2 in /opt/conda/envs/myenv/lib/python3.8/site-packages (from altair<5->-r /workspaces/ML_Project_Image_Recognition/requirements.txt (line 10)) (3.1.6)\n",
      "Requirement already satisfied: jsonschema>=3.0 in /opt/conda/envs/myenv/lib/python3.8/site-packages (from altair<5->-r /workspaces/ML_Project_Image_Recognition/requirements.txt (line 10)) (4.23.0)\n",
      "Requirement already satisfied: toolz in /opt/conda/envs/myenv/lib/python3.8/site-packages (from altair<5->-r /workspaces/ML_Project_Image_Recognition/requirements.txt (line 10)) (1.0.0)\n",
      "Requirement already satisfied: importlib-resources>=1.4.0 in /opt/conda/envs/myenv/lib/python3.8/site-packages (from jsonschema>=3.0->altair<5->-r /workspaces/ML_Project_Image_Recognition/requirements.txt (line 10)) (6.4.5)\n",
      "Requirement already satisfied: jsonschema-specifications>=2023.03.6 in /opt/conda/envs/myenv/lib/python3.8/site-packages (from jsonschema>=3.0->altair<5->-r /workspaces/ML_Project_Image_Recognition/requirements.txt (line 10)) (2023.12.1)\n",
      "Requirement already satisfied: pkgutil-resolve-name>=1.3.10 in /opt/conda/envs/myenv/lib/python3.8/site-packages (from jsonschema>=3.0->altair<5->-r /workspaces/ML_Project_Image_Recognition/requirements.txt (line 10)) (1.3.10)\n",
      "Requirement already satisfied: referencing>=0.28.4 in /opt/conda/envs/myenv/lib/python3.8/site-packages (from jsonschema>=3.0->altair<5->-r /workspaces/ML_Project_Image_Recognition/requirements.txt (line 10)) (0.35.1)\n",
      "Requirement already satisfied: rpds-py>=0.7.1 in /opt/conda/envs/myenv/lib/python3.8/site-packages (from jsonschema>=3.0->altair<5->-r /workspaces/ML_Project_Image_Recognition/requirements.txt (line 10)) (0.20.1)\n",
      "Requirement already satisfied: MarkupSafe>=2.0 in /opt/conda/envs/myenv/lib/python3.8/site-packages (from jinja2->altair<5->-r /workspaces/ML_Project_Image_Recognition/requirements.txt (line 10)) (2.1.5)\n",
      "Requirement already satisfied: google-auth<3,>=1.6.3 in /opt/conda/envs/myenv/lib/python3.8/site-packages (from tensorboard~=2.6->tensorflow-cpu==2.6.0->-r /workspaces/ML_Project_Image_Recognition/requirements.txt (line 7)) (2.38.0)\n",
      "Requirement already satisfied: google-auth-oauthlib<1.1,>=0.5 in /opt/conda/envs/myenv/lib/python3.8/site-packages (from tensorboard~=2.6->tensorflow-cpu==2.6.0->-r /workspaces/ML_Project_Image_Recognition/requirements.txt (line 7)) (1.0.0)\n",
      "Requirement already satisfied: markdown>=2.6.8 in /opt/conda/envs/myenv/lib/python3.8/site-packages (from tensorboard~=2.6->tensorflow-cpu==2.6.0->-r /workspaces/ML_Project_Image_Recognition/requirements.txt (line 7)) (3.7)\n",
      "Requirement already satisfied: setuptools>=41.0.0 in /opt/conda/envs/myenv/lib/python3.8/site-packages (from tensorboard~=2.6->tensorflow-cpu==2.6.0->-r /workspaces/ML_Project_Image_Recognition/requirements.txt (line 7)) (75.1.0)\n",
      "Requirement already satisfied: tensorboard-data-server<0.8.0,>=0.7.0 in /opt/conda/envs/myenv/lib/python3.8/site-packages (from tensorboard~=2.6->tensorflow-cpu==2.6.0->-r /workspaces/ML_Project_Image_Recognition/requirements.txt (line 7)) (0.7.2)\n",
      "Requirement already satisfied: werkzeug>=1.0.1 in /opt/conda/envs/myenv/lib/python3.8/site-packages (from tensorboard~=2.6->tensorflow-cpu==2.6.0->-r /workspaces/ML_Project_Image_Recognition/requirements.txt (line 7)) (3.0.6)\n",
      "Requirement already satisfied: charset-normalizer<4,>=2 in /opt/conda/envs/myenv/lib/python3.8/site-packages (from requests->streamlit==0.85.0->-r /workspaces/ML_Project_Image_Recognition/requirements.txt (line 6)) (3.4.1)\n",
      "Requirement already satisfied: idna<4,>=2.5 in /opt/conda/envs/myenv/lib/python3.8/site-packages (from requests->streamlit==0.85.0->-r /workspaces/ML_Project_Image_Recognition/requirements.txt (line 6)) (3.10)\n",
      "Requirement already satisfied: urllib3<3,>=1.21.1 in /opt/conda/envs/myenv/lib/python3.8/site-packages (from requests->streamlit==0.85.0->-r /workspaces/ML_Project_Image_Recognition/requirements.txt (line 6)) (2.2.3)\n",
      "Requirement already satisfied: gitdb<5,>=4.0.1 in /opt/conda/envs/myenv/lib/python3.8/site-packages (from gitpython->streamlit==0.85.0->-r /workspaces/ML_Project_Image_Recognition/requirements.txt (line 6)) (4.0.12)\n",
      "Requirement already satisfied: backports.zoneinfo in /opt/conda/envs/myenv/lib/python3.8/site-packages (from tzlocal->streamlit==0.85.0->-r /workspaces/ML_Project_Image_Recognition/requirements.txt (line 6)) (0.2.1)\n",
      "Requirement already satisfied: smmap<6,>=3.0.1 in /opt/conda/envs/myenv/lib/python3.8/site-packages (from gitdb<5,>=4.0.1->gitpython->streamlit==0.85.0->-r /workspaces/ML_Project_Image_Recognition/requirements.txt (line 6)) (5.0.2)\n",
      "Requirement already satisfied: pyasn1-modules>=0.2.1 in /opt/conda/envs/myenv/lib/python3.8/site-packages (from google-auth<3,>=1.6.3->tensorboard~=2.6->tensorflow-cpu==2.6.0->-r /workspaces/ML_Project_Image_Recognition/requirements.txt (line 7)) (0.4.1)\n",
      "Requirement already satisfied: rsa<5,>=3.1.4 in /opt/conda/envs/myenv/lib/python3.8/site-packages (from google-auth<3,>=1.6.3->tensorboard~=2.6->tensorflow-cpu==2.6.0->-r /workspaces/ML_Project_Image_Recognition/requirements.txt (line 7)) (4.9)\n",
      "Requirement already satisfied: requests-oauthlib>=0.7.0 in /opt/conda/envs/myenv/lib/python3.8/site-packages (from google-auth-oauthlib<1.1,>=0.5->tensorboard~=2.6->tensorflow-cpu==2.6.0->-r /workspaces/ML_Project_Image_Recognition/requirements.txt (line 7)) (2.0.0)\n",
      "Requirement already satisfied: zipp>=3.1.0 in /opt/conda/envs/myenv/lib/python3.8/site-packages (from importlib-resources>=1.4.0->jsonschema>=3.0->altair<5->-r /workspaces/ML_Project_Image_Recognition/requirements.txt (line 10)) (3.20.2)\n",
      "Requirement already satisfied: importlib-metadata>=4.4 in /opt/conda/envs/myenv/lib/python3.8/site-packages (from markdown>=2.6.8->tensorboard~=2.6->tensorflow-cpu==2.6.0->-r /workspaces/ML_Project_Image_Recognition/requirements.txt (line 7)) (7.0.1)\n",
      "Requirement already satisfied: pyasn1<0.7.0,>=0.4.6 in /opt/conda/envs/myenv/lib/python3.8/site-packages (from pyasn1-modules>=0.2.1->google-auth<3,>=1.6.3->tensorboard~=2.6->tensorflow-cpu==2.6.0->-r /workspaces/ML_Project_Image_Recognition/requirements.txt (line 7)) (0.6.1)\n",
      "Requirement already satisfied: oauthlib>=3.0.0 in /opt/conda/envs/myenv/lib/python3.8/site-packages (from requests-oauthlib>=0.7.0->google-auth-oauthlib<1.1,>=0.5->tensorboard~=2.6->tensorflow-cpu==2.6.0->-r /workspaces/ML_Project_Image_Recognition/requirements.txt (line 7)) (3.2.2)\n",
      "Note: you may need to restart the kernel to use updated packages.\n"
     ]
    }
   ],
   "source": [
    "%pip install -r /workspaces/ML_Project_Image_Recognition/requirements.txt"
   ]
  },
  {
   "cell_type": "code",
   "execution_count": 1,
   "metadata": {},
   "outputs": [],
   "source": [
    "import numpy\n",
    "import os"
   ]
  },
  {
   "cell_type": "markdown",
   "metadata": {},
   "source": [
    "### Setting Working Directory"
   ]
  },
  {
   "cell_type": "code",
   "execution_count": 2,
   "metadata": {},
   "outputs": [
    {
     "data": {
      "text/plain": [
       "'/workspaces/ML_Project_Image_Recognition/Jupyter_Notebooks'"
      ]
     },
     "execution_count": 2,
     "metadata": {},
     "output_type": "execute_result"
    }
   ],
   "source": [
    "current_dir = os.getcwd()\n",
    "current_dir"
   ]
  },
  {
   "cell_type": "code",
   "execution_count": null,
   "metadata": {},
   "outputs": [],
   "source": [
    "directory = 'workspaces/ML_Project_Image_Recognition'\n",
    "\n",
    "if not os.path.exists(directory):\n",
    "    os.makedirs(directory)\n",
    "    print(f\"Directory '{directory}' created.\")\n",
    "else:\n",
    "    print(f\"Directory '{directory}' already exists.\")\n"
   ]
  },
  {
   "cell_type": "code",
   "execution_count": 3,
   "metadata": {},
   "outputs": [
    {
     "name": "stdout",
     "output_type": "stream",
     "text": [
      "This is your set Working Directory\n"
     ]
    }
   ],
   "source": [
    "os.chdir('workspaces/ML_Project_Image_Recognition')\n",
    "print(\"This is your set Working Directory\")"
   ]
  },
  {
   "cell_type": "markdown",
   "metadata": {},
   "source": [
    "### Installing Kaggle\n"
   ]
  },
  {
   "cell_type": "code",
   "execution_count": 4,
   "metadata": {},
   "outputs": [
    {
     "name": "stdout",
     "output_type": "stream",
     "text": [
      "Requirement already satisfied: kaggle==1.5.12 in /opt/conda/envs/myenv/lib/python3.8/site-packages (1.5.12)\n",
      "Requirement already satisfied: six>=1.10 in /opt/conda/envs/myenv/lib/python3.8/site-packages (from kaggle==1.5.12) (1.15.0)\n",
      "Requirement already satisfied: certifi in /opt/conda/envs/myenv/lib/python3.8/site-packages (from kaggle==1.5.12) (2025.1.31)\n",
      "Requirement already satisfied: python-dateutil in /opt/conda/envs/myenv/lib/python3.8/site-packages (from kaggle==1.5.12) (2.9.0.post0)\n",
      "Requirement already satisfied: requests in /opt/conda/envs/myenv/lib/python3.8/site-packages (from kaggle==1.5.12) (2.32.3)\n",
      "Requirement already satisfied: tqdm in /opt/conda/envs/myenv/lib/python3.8/site-packages (from kaggle==1.5.12) (4.67.1)\n",
      "Requirement already satisfied: python-slugify in /opt/conda/envs/myenv/lib/python3.8/site-packages (from kaggle==1.5.12) (8.0.4)\n",
      "Requirement already satisfied: urllib3 in /opt/conda/envs/myenv/lib/python3.8/site-packages (from kaggle==1.5.12) (2.2.3)\n",
      "Requirement already satisfied: text-unidecode>=1.3 in /opt/conda/envs/myenv/lib/python3.8/site-packages (from python-slugify->kaggle==1.5.12) (1.3)\n",
      "Requirement already satisfied: charset-normalizer<4,>=2 in /opt/conda/envs/myenv/lib/python3.8/site-packages (from requests->kaggle==1.5.12) (3.4.1)\n",
      "Requirement already satisfied: idna<4,>=2.5 in /opt/conda/envs/myenv/lib/python3.8/site-packages (from requests->kaggle==1.5.12) (3.10)\n",
      "Note: you may need to restart the kernel to use updated packages.\n"
     ]
    }
   ],
   "source": [
    "%pip install kaggle==1.5.12"
   ]
  },
  {
   "cell_type": "code",
   "execution_count": 11,
   "metadata": {},
   "outputs": [],
   "source": [
    "os.environ['KAGGLE_CONFIG_DIR'] = '/workspaces/ML_Project_Image_Recognition'\n",
    "!chmod 600 /workspaces/ML_Project_Image_Recognition/kaggle.json"
   ]
  },
  {
   "cell_type": "markdown",
   "metadata": {},
   "source": []
  },
  {
   "cell_type": "code",
   "execution_count": 15,
   "metadata": {},
   "outputs": [
    {
     "name": "stdout",
     "output_type": "stream",
     "text": [
      "Downloading structural-defects-network-concrete-crack-images.zip to /workspaces/ML_Image_Recognition_Project/inputs/cracks_dataset\n",
      " 99%|███████████████████████████████████████▋| 502M/506M [00:14<00:00, 28.0MB/s]\n",
      "100%|████████████████████████████████████████| 506M/506M [00:14<00:00, 36.2MB/s]\n"
     ]
    }
   ],
   "source": [
    "KaggleDatasetPath = \"aniruddhsharma/structural-defects-network-concrete-crack-images\"\n",
    "DestinationFolder = \"/workspaces/ML_Image_Recognition_Project/inputs/cracks_dataset\"   \n",
    "os.makedirs(DestinationFolder, exist_ok=True)\n",
    "! kaggle datasets download -d {KaggleDatasetPath} -p {DestinationFolder}"
   ]
  },
  {
   "cell_type": "code",
   "execution_count": 24,
   "metadata": {},
   "outputs": [
    {
     "name": "stdout",
     "output_type": "stream",
     "text": [
      "File not found: /workspaces/ML_Image_Recognition_Project/inputs/cracks_dataset/download.zip\n",
      "Listing files in the destination folder:\n",
      "['Decks', 'Pavements', 'Walls']\n"
     ]
    }
   ],
   "source": [
    "zip_file_path = DestinationFolder + '/download.zip'\n",
    "if os.path.exists(zip_file_path):\n",
    "    with zipfile.ZipFile(zip_file_path, 'r') as zip_ref:\n",
    "        zip_ref.extractall(DestinationFolder)\n",
    "    os.remove(zip_file_path)  \n",
    "else:\n",
    "    print(f\"File not found: {zip_file_path}\")\n",
    "    print(\"Listing files in the destination folder:\")\n",
    "    print(os.listdir(DestinationFolder))\n"
   ]
  },
  {
   "cell_type": "code",
   "execution_count": 23,
   "metadata": {},
   "outputs": [],
   "source": [
    "import zipfile\n",
    "\n",
    "with zipfile.ZipFile(DestinationFolder + '/structural-defects-network-concrete-crack-images.zip', 'r') as zip_ref:\n",
    "    zip_ref.extractall(DestinationFolder)  \n",
    "\n",
    "os.remove(DestinationFolder + '/structural-defects-network-concrete-crack-images.zip')"
   ]
  },
  {
   "cell_type": "markdown",
   "metadata": {},
   "source": [
    "---------------------------------------------------------------"
   ]
  },
  {
   "cell_type": "markdown",
   "metadata": {},
   "source": [
    "## Preparing Data"
   ]
  },
  {
   "cell_type": "markdown",
   "metadata": {},
   "source": [
    "### Data Cleaning\n",
    "Checking for and removing any non-images from the downloaded dataset. "
   ]
  },
  {
   "cell_type": "code",
   "execution_count": null,
   "metadata": {},
   "outputs": [],
   "source": [
    "def remove_non_image_file(my_data_dir):\n",
    "    image_extension = ('.png', '.jpg', '.jpeg')\n",
    "    folders = os.listdir(my_data_dir)\n",
    "    for folder in folders:\n",
    "        files = os.listdir(my_data_dir + '/' + folder)\n",
    "        \n",
    "        i = []\n",
    "        j = []\n",
    "        for given_file in files:\n",
    "            if not given_file.lower().endswith(image_extension):\n",
    "                file_location = my_data_dir + '/' + folder + '/' + given_file\n",
    "                os.remove(file_location)  \n",
    "                i.append(1)\n",
    "            else:\n",
    "                j.append(1)\n",
    "                pass\n",
    "        print(f\"Folder: {folder} - has image file\", len(j))\n",
    "        print(f\"Folder: {folder} - has non-image file\", len(i))"
   ]
  },
  {
   "cell_type": "markdown",
   "metadata": {},
   "source": [
    "## Dividing Dataset\n",
    "As mentioned previously, the dataset must be split into three partitions: a training set; a validation set and a testing set - in the ratio of 0.7, 0.1, 0.2 respectively."
   ]
  },
  {
   "cell_type": "code",
   "execution_count": null,
   "metadata": {},
   "outputs": [],
   "source": []
  }
 ],
 "metadata": {
  "kernelspec": {
   "display_name": "myenv",
   "language": "python",
   "name": "python3"
  },
  "language_info": {
   "codemirror_mode": {
    "name": "ipython",
    "version": 3
   },
   "file_extension": ".py",
   "mimetype": "text/x-python",
   "name": "python",
   "nbconvert_exporter": "python",
   "pygments_lexer": "ipython3",
   "version": "3.8.20"
  }
 },
 "nbformat": 4,
 "nbformat_minor": 2
}
