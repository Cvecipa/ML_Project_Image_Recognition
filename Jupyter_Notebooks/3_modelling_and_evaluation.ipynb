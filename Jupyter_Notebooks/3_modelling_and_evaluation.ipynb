{
 "cells": [
  {
   "cell_type": "markdown",
   "metadata": {},
   "source": [
    "### Imports"
   ]
  },
  {
   "cell_type": "code",
   "execution_count": null,
   "metadata": {},
   "outputs": [],
   "source": [
    "import os\n",
    "import numpy as np\n",
    "import pandas as pd\n",
    "import matplotlib.pyplot as plt\n",
    "import seaborn as sns\n",
    "from matplotlib.image import imread\n",
    "import joblib\n",
    "import random\n",
    "\n",
    "import tensorflow as tf\n",
    "from tensorflow.keras.preprocessing.image import ImageDataGenerator\n",
    "from tensorflow.keras.models import Sequential\n",
    "from tensorflow.keras.layers import Conv2D, MaxPooling2D, Flatten, Dense, Dropout, Activation\n",
    "from tensorflow.keras.callbacks import EarlyStopping\n",
    "from tensorflow.keras.models import load_model\n",
    "\n",
    "sns.set_style(\"whitegrid\")\n",
    "\n",
    "print(\"TensorFlow version:\", tf.__version__)"
   ]
  },
  {
   "cell_type": "markdown",
   "metadata": {},
   "source": [
    "### Directories"
   ]
  },
  {
   "cell_type": "code",
   "execution_count": null,
   "metadata": {},
   "outputs": [],
   "source": [
    "cwd = os.getcwd()\n",
    "print(\"Current working directory:\", cwd)"
   ]
  },
  {
   "cell_type": "code",
   "execution_count": null,
   "metadata": {},
   "outputs": [],
   "source": [
    "os.chdir('/workspaces/ML_Project_Image_Recognition')\n",
    "print(\"New working directory set.\")"
   ]
  },
  {
   "cell_type": "code",
   "execution_count": null,
   "metadata": {},
   "outputs": [],
   "source": [
    "work_dir = os.getcwd()\n",
    "work_dir"
   ]
  },
  {
   "cell_type": "markdown",
   "metadata": {},
   "source": [
    "### Outputs"
   ]
  },
  {
   "cell_type": "code",
   "execution_count": null,
   "metadata": {},
   "outputs": [],
   "source": [
    "data_dir = 'inputs/cracks_dataset_new'\n",
    "train_path = os.path.join(data_dir, 'train')\n",
    "val_path = os.path.join(data_dir, 'val')\n",
    "test_path = os.path.join(data_dir, 'test')\n",
    "\n",
    "version = 'v1'\n",
    "output_path = os.path.join('outputs', version)\n",
    "os.makedirs(output_path, exist_ok=True)\n",
    "print(f\"Output folder: {output_path}\")"
   ]
  },
  {
   "cell_type": "markdown",
   "metadata": {},
   "source": []
  },
  {
   "cell_type": "code",
   "execution_count": null,
   "metadata": {},
   "outputs": [],
   "source": [
    "image_shape = joblib.load(f'{output_path}/image_shape.pkl')\n",
    "print(\"Image shape loaded:\", image_shape)\n",
    "\n",
    "class_indices = joblib.load(f'{output_path}/class_indices.pkl')\n",
    "labels = list(class_indices.keys())\n",
    "print(\"Class labels:\", labels)"
   ]
  },
  {
   "cell_type": "markdown",
   "metadata": {},
   "source": []
  },
  {
   "cell_type": "code",
   "execution_count": null,
   "metadata": {},
   "outputs": [],
   "source": [
    "# Augmentation for \"Cracked\"\n",
    "augmented_gen = ImageDataGenerator(\n",
    "    rotation_range=15,\n",
    "    width_shift_range=0.1,\n",
    "    height_shift_range=0.1,\n",
    "    shear_range=0.1,\n",
    "    zoom_range=0.1,\n",
    "    horizontal_flip=True,\n",
    "    vertical_flip=True,\n",
    "    fill_mode='nearest',\n",
    "    rescale=1./255\n",
    ")\n",
    "\n",
    "# Basic rescaling for \"Non-cracked\"\n",
    "non_augmented_gen = ImageDataGenerator(rescale=1./255)\n",
    "\n",
    "# Function to create custom generator for a single dataset (e.g. \"Walls\")\n",
    "def create_combined_generator(structure_name, image_shape=(256, 256), batch_size=32):\n",
    "    cracked_dir = os.path.join(train_path, structure_name, \"Cracked\")\n",
    "    non_cracked_dir = os.path.join(train_path, structure_name, \"Non-cracked\")\n",
    "\n",
    "    # Augmented cracked images\n",
    "    cracked_generator = augmented_gen.flow_from_directory(\n",
    "        directory=os.path.join(train_path, structure_name),\n",
    "        classes=[\"Cracked\"],\n",
    "        target_size=image_shape[:2],\n",
    "        class_mode='binary',\n",
    "        batch_size=batch_size,\n",
    "        shuffle=True\n",
    "    )\n",
    "\n",
    "    # Non-augmented non-cracked images\n",
    "    non_cracked_generator = non_augmented_gen.flow_from_directory(\n",
    "        directory=os.path.join(train_path, structure_name),\n",
    "        classes=[\"Non-cracked\"],\n",
    "        target_size=image_shape[:2],\n",
    "        class_mode='binary',\n",
    "        batch_size=batch_size,\n",
    "        shuffle=True\n",
    "    )\n",
    "\n",
    "    # Combine the two generators\n",
    "    def combined_gen():\n",
    "        while True:\n",
    "            cracked_imgs, cracked_labels = cracked_generator.next()\n",
    "            non_imgs, non_labels = non_cracked_generator.next()\n",
    "\n",
    "            X = np.concatenate((cracked_imgs, non_imgs), axis=0)\n",
    "            y = np.concatenate((cracked_labels, non_labels), axis=0)\n",
    "\n",
    "            # Shuffle together\n",
    "            indices = np.arange(len(X))\n",
    "            np.random.shuffle(indices)\n",
    "            yield X[indices], y[indices]\n",
    "\n",
    "    return combined_gen(), len(cracked_generator.filenames) + len(non_cracked_generator.filenames)\n"
   ]
  },
  {
   "cell_type": "code",
   "execution_count": null,
   "metadata": {},
   "outputs": [],
   "source": [
    "walls_train_gen, walls_total_images = create_combined_generator(\"Walls\")\n",
    "decks_train_gen, decks_total_images = create_combined_generator(\"Decks\")\n",
    "pavements_train_gen, pavements_total_images = create_combined_generator(\"Pavements\")"
   ]
  }
 ],
 "metadata": {
  "kernelspec": {
   "display_name": "myenv",
   "language": "python",
   "name": "python3"
  },
  "language_info": {
   "codemirror_mode": {
    "name": "ipython",
    "version": 3
   },
   "file_extension": ".py",
   "mimetype": "text/x-python",
   "name": "python",
   "nbconvert_exporter": "python",
   "pygments_lexer": "ipython3",
   "version": "3.8.20"
  }
 },
 "nbformat": 4,
 "nbformat_minor": 2
}
